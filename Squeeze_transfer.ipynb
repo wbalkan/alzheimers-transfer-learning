{
  "cells": [
    {
      "cell_type": "markdown",
      "metadata": {
        "id": "MKbveQCaYMT3"
      },
      "source": [
        "## Importing Packages"
      ]
    },
    {
      "cell_type": "code",
      "execution_count": 1,
      "metadata": {},
      "outputs": [
        {
          "name": "stdout",
          "output_type": "stream",
          "text": [
            "Defaulting to user installation because normal site-packages is not writeable\n",
            "Requirement already satisfied: torchsummary in /Users/brianng/Library/Python/3.9/lib/python/site-packages (1.5.1)\n",
            "\u001b[33mWARNING: You are using pip version 21.2.4; however, version 24.0 is available.\n",
            "You should consider upgrading via the '/Library/Developer/CommandLineTools/usr/bin/python3 -m pip install --upgrade pip' command.\u001b[0m\n",
            "Note: you may need to restart the kernel to use updated packages.\n"
          ]
        }
      ],
      "source": [
        "pip install torchsummary"
      ]
    },
    {
      "cell_type": "code",
      "execution_count": 2,
      "metadata": {},
      "outputs": [
        {
          "name": "stdout",
          "output_type": "stream",
          "text": [
            "Defaulting to user installation because normal site-packages is not writeable\n",
            "Requirement already satisfied: tqdm in /Users/brianng/Library/Python/3.9/lib/python/site-packages (4.66.4)\n",
            "\u001b[33mWARNING: You are using pip version 21.2.4; however, version 24.0 is available.\n",
            "You should consider upgrading via the '/Library/Developer/CommandLineTools/usr/bin/python3 -m pip install --upgrade pip' command.\u001b[0m\n",
            "Note: you may need to restart the kernel to use updated packages.\n"
          ]
        }
      ],
      "source": [
        "pip install tqdm"
      ]
    },
    {
      "cell_type": "code",
      "execution_count": 3,
      "metadata": {},
      "outputs": [
        {
          "name": "stdout",
          "output_type": "stream",
          "text": [
            "Defaulting to user installation because normal site-packages is not writeable\n",
            "Requirement already satisfied: sklearn in /Users/brianng/Library/Python/3.9/lib/python/site-packages (0.0)\n",
            "Requirement already satisfied: scikit-learn in /Users/brianng/Library/Python/3.9/lib/python/site-packages (from sklearn) (1.4.2)\n",
            "Requirement already satisfied: scipy>=1.6.0 in /Users/brianng/Library/Python/3.9/lib/python/site-packages (from scikit-learn->sklearn) (1.13.0)\n",
            "Requirement already satisfied: numpy>=1.19.5 in /Users/brianng/Library/Python/3.9/lib/python/site-packages (from scikit-learn->sklearn) (1.26.4)\n",
            "Requirement already satisfied: threadpoolctl>=2.0.0 in /Users/brianng/Library/Python/3.9/lib/python/site-packages (from scikit-learn->sklearn) (3.5.0)\n",
            "Requirement already satisfied: joblib>=1.2.0 in /Users/brianng/Library/Python/3.9/lib/python/site-packages (from scikit-learn->sklearn) (1.4.2)\n",
            "\u001b[33mWARNING: You are using pip version 21.2.4; however, version 24.0 is available.\n",
            "You should consider upgrading via the '/Library/Developer/CommandLineTools/usr/bin/python3 -m pip install --upgrade pip' command.\u001b[0m\n",
            "Note: you may need to restart the kernel to use updated packages.\n"
          ]
        }
      ],
      "source": [
        "pip install sklearn"
      ]
    },
    {
      "cell_type": "code",
      "execution_count": 4,
      "metadata": {},
      "outputs": [
        {
          "name": "stdout",
          "output_type": "stream",
          "text": [
            "Defaulting to user installation because normal site-packages is not writeable\n",
            "Requirement already satisfied: torchsummary in /Users/brianng/Library/Python/3.9/lib/python/site-packages (1.5.1)\n",
            "\u001b[33mWARNING: You are using pip version 21.2.4; however, version 24.0 is available.\n",
            "You should consider upgrading via the '/Library/Developer/CommandLineTools/usr/bin/python3 -m pip install --upgrade pip' command.\u001b[0m\n",
            "Note: you may need to restart the kernel to use updated packages.\n"
          ]
        }
      ],
      "source": [
        "pip install torchsummary"
      ]
    },
    {
      "cell_type": "code",
      "execution_count": 15,
      "metadata": {
        "colab": {
          "base_uri": "https://localhost:8080/"
        },
        "id": "eMi0sfQKYJyC",
        "outputId": "a3dff8cd-214b-4313-b812-2359984e5aae"
      },
      "outputs": [],
      "source": [
        "import torch\n",
        "import torch.nn as nn\n",
        "import torch.optim as optim\n",
        "from torchvision import datasets, transforms\n",
        "from torchvision.transforms import InterpolationMode\n",
        "from torch.utils.data import DataLoader, WeightedRandomSampler\n",
        "from torchsummary import summary\n",
        "import torchvision\n",
        "from torchvision.models import squeezenet1_1, SqueezeNet1_1_Weights\n",
        "from tqdm import tqdm\n",
        "from sklearn.metrics import f1_score\n",
        "import os\n",
        "from torch.optim.lr_scheduler import StepLR\n",
        "import random\n",
        "import numpy as np\n",
        "import matplotlib.pyplot as plt\n",
        "\n"
      ]
    },
    {
      "cell_type": "code",
      "execution_count": 21,
      "metadata": {
        "colab": {
          "base_uri": "https://localhost:8080/"
        },
        "id": "OeRbvxXs4XtM",
        "outputId": "fb6a5201-5067-439e-de78-e697fcd09081"
      },
      "outputs": [
        {
          "name": "stdout",
          "output_type": "stream",
          "text": [
            "device:  mps\n"
          ]
        }
      ],
      "source": [
        "if torch.backends.mps.is_available():\n",
        "  torch.set_default_device('mps')\n",
        "\n",
        "device = torch.device(\"mps\") if torch.backends.mps.is_available() else torch.device(\"cpu\")\n",
        "\n",
        "print(\"device: \", device)"
      ]
    },
    {
      "cell_type": "code",
      "execution_count": 22,
      "metadata": {
        "id": "zkPKFa06sCiL"
      },
      "outputs": [],
      "source": [
        "# Set a random seed for reproducibility\n",
        "def set_seed(seed_value=42):\n",
        "    random.seed(seed_value)       # Python random module\n",
        "    np.random.seed(seed_value)    # Numpy module\n",
        "    torch.manual_seed(seed_value) # Torch\n",
        "    os.environ['PYTHONHASHSEED'] = str(seed_value)  # Environment variable\n",
        "\n",
        "    if torch.cuda.is_available():\n",
        "        torch.cuda.manual_seed(seed_value)\n",
        "        torch.cuda.manual_seed_all(seed_value)  # if using multi-GPU\n",
        "        torch.backends.cudnn.deterministic = True\n",
        "        torch.backends.cudnn.benchmark = False\n",
        "\n",
        "set_seed(24)"
      ]
    },
    {
      "cell_type": "markdown",
      "metadata": {
        "id": "tG1vjZlxa008"
      },
      "source": [
        "## Importing the Dataset"
      ]
    },
    {
      "cell_type": "code",
      "execution_count": 8,
      "metadata": {
        "id": "KJL0iSOeY591"
      },
      "outputs": [],
      "source": [
        "'TODO: Define transformations - crop or resize'\n",
        "transform = transforms.Compose([\n",
        "    transforms.Resize(256, interpolation=InterpolationMode.BICUBIC),\n",
        "    transforms.CenterCrop(224),\n",
        "    transforms.ToTensor(),\n",
        "    transforms.Normalize(mean=[0.485, 0.456, 0.406], std=[0.229, 0.224, 0.225])  # Normalization for pre-trained models\n",
        "])\n",
        "\n",
        "\"\"\"\n",
        "\n",
        "In order to load the datasets from the shared folder, go to google drive, right click the shared folder, and create a shortcut\n",
        "to somewhere in your drive.\n",
        "\n",
        "\"\"\"\n",
        "\n",
        "# Ben's dataset paths\n",
        "ben_train_dataset_path = \"/content/gdrive/MyDrive/24S Classes/Deep Learning/COSC78 Final Project/Train Data\"\n",
        "ben_validation_dataset_path = \"/content/gdrive/MyDrive/24S Classes/Deep Learning/COSC78 Final Project/Validation Data\"\n",
        "ben_test_dataset_path = \"/content/gdrive/MyDrive/24S Classes/Deep Learning/COSC78 Final Project/Test Data\"\n",
        "\n",
        "\n",
        "# Dawson's dataset paths\n",
        "daw_train_dataset_path = '/content/gdrive/MyDrive/COSC78 Final Project/Train Data'\n",
        "daw_validation_dataset_path = '/content/gdrive/MyDrive/COSC78 Final Project/Validation Data'\n",
        "daw_test_dataset_path = '/content/gdrive/MyDrive/COSC78 Final Project/Test Data'\n",
        "\n",
        "# Will's dataset paths\n",
        "will_train_dataset_path = '/content/gdrive/MyDrive/COSC78/COSC78 Final Project/Train Data'\n",
        "will_validation_dataset_path = '/content/gdrive/MyDrive/COSC78/COSC78 Final Project/Validation Data'\n",
        "will_test_dataset_path = '/content/gdrive/MyDrive/COSC78/COSC78 Final Project/Test Data'\n",
        "\n",
        "# Brian's dataset paths\n",
        "bri_train_dataset_path = '/content/gdrive/MyDrive/Algorithms - Collab/CS 78/COSC78 Final Project/Train Data'\n",
        "bri_val_dataset_path = '/content/gdrive/MyDrive/Algorithms - Collab/CS 78/COSC78 Final Project/Validation Data'\n",
        "bri_test_dataset_path = '/content/gdrive/MyDrive/Algorithms - Collab/CS 78/COSC78 Final Project/Test Data'\n",
        "\n",
        "# Brian's laptop\n",
        "bri1_train_dataset_path = '/Users/brianng/Downloads/Oasis/Test Data'\n",
        "bri1_val_dataset_path = '/Users/brianng/Downloads/Oasis/Validation Data'\n",
        "bri1_test_dataset_path = '/Users/brianng/Downloads/Oasis/Test Data'\n",
        "\n",
        "#% Dataset paths in use %# (currently brian's)\n",
        "train_dataset_path = bri1_train_dataset_path\n",
        "validation_dataset_path = bri1_val_dataset_path\n",
        "test_dataset_path = bri1_test_dataset_path\n",
        "\n",
        "\n",
        "generator = torch.Generator(device=device)\n",
        "\n",
        "\n",
        "with torch.device(device):\n",
        "    # Setup datasets using ImageFolder\n",
        "    train_dataset = datasets.ImageFolder(train_dataset_path, transform=transform)\n",
        "    val_dataset = datasets.ImageFolder(validation_dataset_path, transform=transform)\n",
        "    test_dataset = datasets.ImageFolder(test_dataset_path, transform=transform)\n",
        "\n",
        "    # Create dataloaders\n",
        "    train_loader = DataLoader(train_dataset, batch_size=32, shuffle=True, generator=generator)\n",
        "    val_loader = DataLoader(val_dataset, batch_size=32, shuffle=False, generator=generator)\n",
        "    test_loader = DataLoader(test_dataset, batch_size=32, shuffle=False, generator=generator)"
      ]
    },
    {
      "cell_type": "markdown",
      "metadata": {
        "id": "yV1U_YB_bdvh"
      },
      "source": [
        "## Import and modify the model"
      ]
    },
    {
      "cell_type": "code",
      "execution_count": 9,
      "metadata": {
        "colab": {
          "base_uri": "https://localhost:8080/"
        },
        "id": "Bc6PMZa9bhVI",
        "outputId": "32a504a0-f8e5-4eee-ffc1-a74f5293949c"
      },
      "outputs": [
        {
          "name": "stdout",
          "output_type": "stream",
          "text": [
            "----------------------------------------------------------------\n",
            "        Layer (type)               Output Shape         Param #\n",
            "================================================================\n",
            "            Conv2d-1         [-1, 64, 111, 111]           1,792\n",
            "              ReLU-2         [-1, 64, 111, 111]               0\n",
            "         MaxPool2d-3           [-1, 64, 55, 55]               0\n",
            "            Conv2d-4           [-1, 16, 55, 55]           1,040\n",
            "              ReLU-5           [-1, 16, 55, 55]               0\n",
            "            Conv2d-6           [-1, 64, 55, 55]           1,088\n",
            "              ReLU-7           [-1, 64, 55, 55]               0\n",
            "            Conv2d-8           [-1, 64, 55, 55]           9,280\n",
            "              ReLU-9           [-1, 64, 55, 55]               0\n",
            "             Fire-10          [-1, 128, 55, 55]               0\n",
            "           Conv2d-11           [-1, 16, 55, 55]           2,064\n",
            "             ReLU-12           [-1, 16, 55, 55]               0\n",
            "           Conv2d-13           [-1, 64, 55, 55]           1,088\n",
            "             ReLU-14           [-1, 64, 55, 55]               0\n",
            "           Conv2d-15           [-1, 64, 55, 55]           9,280\n",
            "             ReLU-16           [-1, 64, 55, 55]               0\n",
            "             Fire-17          [-1, 128, 55, 55]               0\n",
            "        MaxPool2d-18          [-1, 128, 27, 27]               0\n",
            "           Conv2d-19           [-1, 32, 27, 27]           4,128\n",
            "             ReLU-20           [-1, 32, 27, 27]               0\n",
            "           Conv2d-21          [-1, 128, 27, 27]           4,224\n",
            "             ReLU-22          [-1, 128, 27, 27]               0\n",
            "           Conv2d-23          [-1, 128, 27, 27]          36,992\n",
            "             ReLU-24          [-1, 128, 27, 27]               0\n",
            "             Fire-25          [-1, 256, 27, 27]               0\n",
            "           Conv2d-26           [-1, 32, 27, 27]           8,224\n",
            "             ReLU-27           [-1, 32, 27, 27]               0\n",
            "           Conv2d-28          [-1, 128, 27, 27]           4,224\n",
            "             ReLU-29          [-1, 128, 27, 27]               0\n",
            "           Conv2d-30          [-1, 128, 27, 27]          36,992\n",
            "             ReLU-31          [-1, 128, 27, 27]               0\n",
            "             Fire-32          [-1, 256, 27, 27]               0\n",
            "        MaxPool2d-33          [-1, 256, 13, 13]               0\n",
            "           Conv2d-34           [-1, 48, 13, 13]          12,336\n",
            "             ReLU-35           [-1, 48, 13, 13]               0\n",
            "           Conv2d-36          [-1, 192, 13, 13]           9,408\n",
            "             ReLU-37          [-1, 192, 13, 13]               0\n",
            "           Conv2d-38          [-1, 192, 13, 13]          83,136\n",
            "             ReLU-39          [-1, 192, 13, 13]               0\n",
            "             Fire-40          [-1, 384, 13, 13]               0\n",
            "           Conv2d-41           [-1, 48, 13, 13]          18,480\n",
            "             ReLU-42           [-1, 48, 13, 13]               0\n",
            "           Conv2d-43          [-1, 192, 13, 13]           9,408\n",
            "             ReLU-44          [-1, 192, 13, 13]               0\n",
            "           Conv2d-45          [-1, 192, 13, 13]          83,136\n",
            "             ReLU-46          [-1, 192, 13, 13]               0\n",
            "             Fire-47          [-1, 384, 13, 13]               0\n",
            "           Conv2d-48           [-1, 64, 13, 13]          24,640\n",
            "             ReLU-49           [-1, 64, 13, 13]               0\n",
            "           Conv2d-50          [-1, 256, 13, 13]          16,640\n",
            "             ReLU-51          [-1, 256, 13, 13]               0\n",
            "           Conv2d-52          [-1, 256, 13, 13]         147,712\n",
            "             ReLU-53          [-1, 256, 13, 13]               0\n",
            "             Fire-54          [-1, 512, 13, 13]               0\n",
            "           Conv2d-55           [-1, 64, 13, 13]          32,832\n",
            "             ReLU-56           [-1, 64, 13, 13]               0\n",
            "           Conv2d-57          [-1, 256, 13, 13]          16,640\n",
            "             ReLU-58          [-1, 256, 13, 13]               0\n",
            "           Conv2d-59          [-1, 256, 13, 13]         147,712\n",
            "             ReLU-60          [-1, 256, 13, 13]               0\n",
            "             Fire-61          [-1, 512, 13, 13]               0\n",
            "          Dropout-62          [-1, 512, 13, 13]               0\n",
            "           Conv2d-63          [-1, 256, 13, 13]         131,328\n",
            "             ReLU-64          [-1, 256, 13, 13]               0\n",
            "           Conv2d-65            [-1, 3, 13, 13]             771\n",
            "AdaptiveAvgPool2d-66              [-1, 3, 1, 1]               0\n",
            "          Flatten-67                    [-1, 3]               0\n",
            "          Softmax-68                    [-1, 3]               0\n",
            "================================================================\n",
            "Total params: 854,595\n",
            "Trainable params: 132,099\n",
            "Non-trainable params: 722,496\n",
            "----------------------------------------------------------------\n",
            "Input size (MB): 0.57\n",
            "Forward/backward pass size (MB): 51.84\n",
            "Params size (MB): 3.26\n",
            "Estimated Total Size (MB): 55.68\n",
            "----------------------------------------------------------------\n"
          ]
        },
        {
          "name": "stderr",
          "output_type": "stream",
          "text": [
            "/Users/brianng/Library/Python/3.9/lib/python/site-packages/torchvision/models/_utils.py:208: UserWarning: The parameter 'pretrained' is deprecated since 0.13 and may be removed in the future, please use 'weights' instead.\n",
            "  warnings.warn(\n",
            "/Users/brianng/Library/Python/3.9/lib/python/site-packages/torchvision/models/_utils.py:223: UserWarning: Arguments other than a weight enum or `None` for 'weights' are deprecated since 0.13 and may be removed in the future. The current behavior is equivalent to passing `weights=SqueezeNet1_1_Weights.IMAGENET1K_V1`. You can also use `weights=SqueezeNet1_1_Weights.DEFAULT` to get the most up-to-date weights.\n",
            "  warnings.warn(msg)\n"
          ]
        }
      ],
      "source": [
        "# Load the pre-trained SqueezeNet 1_1 model\n",
        "pretrained_weights = squeezenet1_1(pretrained=True)\n",
        "squeezenet = pretrained_weights\n",
        "\n",
        "# Freeze all the parameters for fine-tuning\n",
        "for param in squeezenet.parameters():\n",
        "    param.requires_grad = False\n",
        "\n",
        "# Replace the classifier head\n",
        "num_classes = 3  # Number of classes in your dataset\n",
        "squeezenet.classifier[1] = nn.Conv2d(512, num_classes, kernel_size=(1,1), stride=(1,1))\n",
        "squeezenet.classifier[1].requires_grad_ = True\n",
        "\n",
        "# Optionally add more non-linear layers\n",
        "squeezenet.classifier = nn.Sequential(\n",
        "    nn.Dropout(p=0.5),\n",
        "    nn.Conv2d(512, 256, kernel_size=(1,1), stride=(1,1)),\n",
        "    nn.ReLU(),\n",
        "    nn.Conv2d(256, num_classes, kernel_size=(1,1), stride=(1,1)),\n",
        "    nn.AdaptiveAvgPool2d((1, 1)),\n",
        "    nn.Flatten(),\n",
        "    nn.Softmax(dim=1)\n",
        ")\n",
        "\n",
        "\n",
        "# Print the model summary\n",
        "summary(squeezenet, input_size=(3, 224, 224))"
      ]
    },
    {
      "cell_type": "markdown",
      "metadata": {
        "id": "hk1BMAf1sak6"
      },
      "source": [
        "## Fine tune the model"
      ]
    },
    {
      "cell_type": "code",
      "execution_count": 10,
      "metadata": {
        "id": "Vgoyy06m2Pj1"
      },
      "outputs": [],
      "source": [
        "loss_func = nn.CrossEntropyLoss()\n",
        "optimizer = optim.Adam(squeezenet.parameters())"
      ]
    },
    {
      "cell_type": "code",
      "execution_count": 11,
      "metadata": {
        "colab": {
          "base_uri": "https://localhost:8080/"
        },
        "id": "H60gXIg5Rheb",
        "outputId": "ba1f9ee6-425e-44b3-fa8c-5ebe4897cfb1"
      },
      "outputs": [
        {
          "data": {
            "text/plain": [
              "<torch._C.Generator at 0x10ff82370>"
            ]
          },
          "execution_count": 11,
          "metadata": {},
          "output_type": "execute_result"
        }
      ],
      "source": [
        "loss_func = nn.CrossEntropyLoss()\n",
        "optimizer = optim.Adam(squeezenet.parameters(),lr=1e-3)\n",
        "scheduler = StepLR(optimizer, step_size=5, gamma=0.1)  # Decreases the learning rate by a factor of 0.1 every 10 epochs\n",
        "torch.manual_seed(24)"
      ]
    },
    {
      "cell_type": "code",
      "execution_count": 12,
      "metadata": {
        "id": "sDxNp48Y31Tm"
      },
      "outputs": [],
      "source": [
        "def train_and_validate(model, train_loader, val_loader, optimizer, scheduler, loss_func, epochs=25, patience=5, save_path='best_model.pth'):\n",
        "    # Device configuration\n",
        "    device = torch.device('cuda' if torch.cuda.is_available() else 'cpu')\n",
        "    model.to(device)\n",
        "\n",
        "    # To store the training and validation loss for plotting or analysis\n",
        "    history = {'train_loss': [], 'val_loss': [], 'train_accuracy': [], 'val_accuracy': [], 'train_f1': [], 'val_f1': []}\n",
        "\n",
        "    best_val_loss = float('inf')\n",
        "    patience_counter = 0  # Counter for the early stopping\n",
        "\n",
        "    for epoch in range(epochs):\n",
        "        model.train()\n",
        "        train_loss = 0.0\n",
        "        correct_train = 0\n",
        "        total_train = 0\n",
        "        train_preds, train_targets = [], []\n",
        "\n",
        "        for images, labels in tqdm(train_loader, desc=f\"Epoch {epoch + 1}/{epochs} - Training\"):\n",
        "            images, labels = images.to(device), labels.to(device)\n",
        "            optimizer.zero_grad()\n",
        "            outputs = model(images)\n",
        "            loss = loss_func(outputs, labels)\n",
        "            loss.backward()\n",
        "            optimizer.step()\n",
        "\n",
        "            train_loss += loss.item() * images.size(0)\n",
        "            _, predicted = torch.max(outputs.data, 1)\n",
        "            correct_train += (predicted == labels).sum().item()\n",
        "            total_train += labels.size(0)\n",
        "\n",
        "            train_preds.extend(predicted.cpu().numpy())\n",
        "            train_targets.extend(labels.cpu().numpy())\n",
        "\n",
        "        train_accuracy = 100 * correct_train / total_train\n",
        "        train_f1 = f1_score(train_targets, train_preds, average='weighted')\n",
        "        epoch_train_loss = train_loss / len(train_loader.dataset)\n",
        "        history['train_loss'].append(epoch_train_loss)\n",
        "        history['train_accuracy'].append(train_accuracy)\n",
        "        history['train_f1'].append(train_f1)\n",
        "\n",
        "        # Scheduler step (commonly after training step, can be adjusted as per scheduler type)\n",
        "        scheduler.step()\n",
        "\n",
        "        model.eval()\n",
        "        val_loss = 0.0\n",
        "        correct_val = 0\n",
        "        total_val = 0\n",
        "        val_preds, val_targets = [], []\n",
        "\n",
        "        with torch.no_grad():\n",
        "            for images, labels in tqdm(val_loader, desc=f\"Epoch {epoch + 1}/{epochs} - Validation\"):\n",
        "                images, labels = images.to(device), labels.to(device)\n",
        "                outputs = model(images)\n",
        "                loss = loss_func(outputs, labels)\n",
        "\n",
        "                val_loss += loss.item() * images.size(0)\n",
        "                _, predicted = torch.max(outputs.data, 1)\n",
        "                correct_val += (predicted == labels).sum().item()\n",
        "                total_val += labels.size(0)\n",
        "\n",
        "                val_preds.extend(predicted.cpu().numpy())\n",
        "                val_targets.extend(labels.cpu().numpy())\n",
        "\n",
        "        val_accuracy = 100 * correct_val / total_val\n",
        "        val_f1 = f1_score(val_targets, val_preds, average='weighted')\n",
        "        epoch_val_loss = val_loss / len(val_loader.dataset)\n",
        "        history['val_loss'].append(epoch_val_loss)\n",
        "        history['val_accuracy'].append(val_accuracy)\n",
        "        history['val_f1'].append(val_f1)\n",
        "\n",
        "        print(f'Epoch [{epoch+1}/{epochs}], Train Loss: {epoch_train_loss:.4f}, Train Accuracy: {train_accuracy:.2f}%, Train F1: {train_f1:.4f}, Validation Loss: {epoch_val_loss:.4f}, Validation Accuracy: {val_accuracy:.2f}%, Validation F1: {val_f1:.4f}')\n",
        "\n",
        "        # Check for improvement in validation loss\n",
        "        if epoch_val_loss < best_val_loss:\n",
        "            best_val_loss = epoch_val_loss\n",
        "            patience_counter = 0\n",
        "            torch.save(model.state_dict(), save_path)  # Save the best model\n",
        "        else:\n",
        "            patience_counter += 1\n",
        "            if patience_counter >= patience:\n",
        "                print(f\"Stopping early after {epoch + 1} epochs due to no improvement in validation loss.\")\n",
        "                model.load_state_dict(torch.load(save_path))  # Load the best model weights\n",
        "                break\n",
        "\n",
        "    return history"
      ]
    },
    {
      "cell_type": "markdown",
      "metadata": {},
      "source": [
        "Tried adding non-linear layers - validation accuracy got worse\n",
        "Decreased batch size to 32 - starting point was worse but improved"
      ]
    },
    {
      "cell_type": "code",
      "execution_count": 13,
      "metadata": {
        "colab": {
          "base_uri": "https://localhost:8080/"
        },
        "id": "T9T2yJ7d2UMu",
        "outputId": "b12e99fb-f74c-45d8-e128-9355b2684759"
      },
      "outputs": [
        {
          "name": "stderr",
          "output_type": "stream",
          "text": [
            "Epoch 1/5 - Training: 100%|██████████| 165/165 [01:15<00:00,  2.19it/s]\n",
            "Epoch 1/5 - Validation: 100%|██████████| 164/164 [01:12<00:00,  2.25it/s]\n"
          ]
        },
        {
          "name": "stdout",
          "output_type": "stream",
          "text": [
            "Epoch [1/5], Train Loss: 0.7908, Train Accuracy: 75.91%, Train F1: 0.6598, Validation Loss: 0.7613, Validation Accuracy: 79.02%, Validation F1: 0.6975\n"
          ]
        },
        {
          "name": "stderr",
          "output_type": "stream",
          "text": [
            "Epoch 2/5 - Training: 100%|██████████| 165/165 [01:15<00:00,  2.20it/s]\n",
            "Epoch 2/5 - Validation: 100%|██████████| 164/164 [01:11<00:00,  2.28it/s]\n"
          ]
        },
        {
          "name": "stdout",
          "output_type": "stream",
          "text": [
            "Epoch [2/5], Train Loss: 0.7884, Train Accuracy: 76.31%, Train F1: 0.6605, Validation Loss: 0.7613, Validation Accuracy: 79.02%, Validation F1: 0.6975\n"
          ]
        },
        {
          "name": "stderr",
          "output_type": "stream",
          "text": [
            "Epoch 3/5 - Training: 100%|██████████| 165/165 [01:16<00:00,  2.16it/s]\n",
            "Epoch 3/5 - Validation: 100%|██████████| 164/164 [01:12<00:00,  2.26it/s]\n"
          ]
        },
        {
          "name": "stdout",
          "output_type": "stream",
          "text": [
            "Epoch [3/5], Train Loss: 0.7884, Train Accuracy: 76.31%, Train F1: 0.6605, Validation Loss: 0.7613, Validation Accuracy: 79.02%, Validation F1: 0.6975\n"
          ]
        },
        {
          "name": "stderr",
          "output_type": "stream",
          "text": [
            "Epoch 4/5 - Training: 100%|██████████| 165/165 [01:15<00:00,  2.19it/s]\n",
            "Epoch 4/5 - Validation: 100%|██████████| 164/164 [01:12<00:00,  2.25it/s]\n"
          ]
        },
        {
          "name": "stdout",
          "output_type": "stream",
          "text": [
            "Epoch [4/5], Train Loss: 0.7884, Train Accuracy: 76.31%, Train F1: 0.6605, Validation Loss: 0.7613, Validation Accuracy: 79.02%, Validation F1: 0.6975\n"
          ]
        },
        {
          "name": "stderr",
          "output_type": "stream",
          "text": [
            "Epoch 5/5 - Training: 100%|██████████| 165/165 [01:15<00:00,  2.20it/s]\n",
            "Epoch 5/5 - Validation: 100%|██████████| 164/164 [01:13<00:00,  2.23it/s]"
          ]
        },
        {
          "name": "stdout",
          "output_type": "stream",
          "text": [
            "Epoch [5/5], Train Loss: 0.7884, Train Accuracy: 76.31%, Train F1: 0.6605, Validation Loss: 0.7613, Validation Accuracy: 79.02%, Validation F1: 0.6975\n"
          ]
        },
        {
          "name": "stderr",
          "output_type": "stream",
          "text": [
            "\n"
          ]
        }
      ],
      "source": [
        "history = train_and_validate(squeezenet, train_loader, val_loader, optimizer, scheduler, loss_func, epochs=5)"
      ]
    },
    {
      "cell_type": "code",
      "execution_count": 16,
      "metadata": {
        "id": "U92IqWAQDSpK"
      },
      "outputs": [
        {
          "data": {
            "image/png": "[encoded data removed]",
            "text/plain": [
              "<Figure size 1800x600 with 3 Axes>"
            ]
          },
          "metadata": {},
          "output_type": "display_data"
        }
      ],
      "source": [
        "# Plotting training and validation accuracy\n",
        "plt.figure(figsize=(18, 6))\n",
        "\n",
        "plt.subplot(1, 3, 1)\n",
        "plt.plot(history['train_accuracy'], label='Train Accuracy')\n",
        "plt.plot(history['val_accuracy'], label='Validation Accuracy')\n",
        "plt.title('Model Accuracy')\n",
        "plt.xlabel('Epoch')\n",
        "plt.ylabel('Accuracy (%)')\n",
        "plt.legend()\n",
        "\n",
        "# Plotting training and validation F1 score\n",
        "plt.subplot(1, 3, 2)\n",
        "plt.plot(history['train_f1'], label='Train F1 Score')\n",
        "plt.plot(history['val_f1'], label='Validation F1 Score')\n",
        "plt.title('Model F1 Score')\n",
        "plt.xlabel('Epoch')\n",
        "plt.ylabel('F1 Score')\n",
        "plt.legend()\n",
        "\n",
        "# Plotting training and validation loss\n",
        "plt.subplot(1, 3, 3)\n",
        "plt.plot(history['train_loss'], label='Train Loss')\n",
        "plt.plot(history['val_loss'], label='Validation Loss')\n",
        "plt.title('Model Loss')\n",
        "plt.xlabel('Epoch')\n",
        "plt.ylabel('Loss')\n",
        "plt.legend()\n",
        "\n",
        "plt.tight_layout()\n",
        "plt.show()"
      ]
    },
    {
      "cell_type": "code",
      "execution_count": 17,
      "metadata": {},
      "outputs": [],
      "source": [
        "def evaluate_model(model, dataloader, device='cuda', save_path='model_final.pth'):\n",
        "    model.eval()  # Set model to evaluation mode\n",
        "    true_labels = []\n",
        "    predictions = []\n",
        "    \n",
        "    # No gradient needed\n",
        "    with torch.no_grad():\n",
        "        for inputs, labels in dataloader:\n",
        "            inputs = inputs.to(device)\n",
        "            labels = labels.to(device)\n",
        "            \n",
        "            outputs = model(inputs)\n",
        "            _, preds = torch.max(outputs, 1)\n",
        "            \n",
        "            predictions.extend(preds.cpu().numpy())\n",
        "            true_labels.extend(labels.cpu().numpy())\n",
        "\n",
        "    # Calculate performance metrics\n",
        "    precision = precision_score(true_labels, predictions, average='weighted', zero_division=0)\n",
        "    recall = recall_score(true_labels, predictions, average='weighted', zero_division=0)\n",
        "    f1 = f1_score(true_labels, predictions, average='weighted', zero_division=0)\n",
        "\n",
        "    # Save model weights\n",
        "    torch.save(model.state_dict(), save_path)\n",
        "\n",
        "    # Save performance metrics to a file\n",
        "    with open('test_performance.txt', 'w') as f:\n",
        "        f.write(str(hyperparameters) + '\\n')\n",
        "        f.write(f'Precision: {precision:.4f}\\n')\n",
        "        f.write(f'Recall: {recall:.4f}\\n')\n",
        "        f.write(f'F1 Score: {f1:.4f}\\n')\n",
        "\n",
        "    # Output metrics\n",
        "    print(f'Precision: {precision:.4f}')\n",
        "    print(f'Recall: {recall:.4f}')\n",
        "    print(f'F1 Score: {f1:.4f}')\n",
        "\n",
        "    # Confusion matrix\n",
        "    cm = confusion_matrix(true_labels, predictions)\n",
        "    plot_confusion_matrix(cm, classes=['Mild Dementia', 'Very Mild Dementia', 'Non Demented'])\n",
        "\n",
        "def plot_confusion_matrix(cm, classes, title='Confusion Matrix', cmap=plt.cm.Blues):\n",
        "    \"\"\"\n",
        "    This function prints and plots the confusion matrix.\n",
        "    Normalization can be added by setting `normalize=True`.\n",
        "    \"\"\"\n",
        "    plt.imshow(cm, interpolation='nearest', cmap=cmap)\n",
        "    plt.title(title)\n",
        "    plt.colorbar()\n",
        "    tick_marks = np.arange(len(classes))\n",
        "    plt.xticks(tick_marks, classes, rotation=45)\n",
        "    plt.yticks(tick_marks, classes)\n",
        "\n",
        "    # Loop over data dimensions and create text annotations.\n",
        "    fmt = 'd'\n",
        "    thresh = cm.max() / 2.\n",
        "    for i, j in enumerate(np.meshgrid(np.arange(cm.shape[0]), np.arange(cm.shape[1]))[0]):\n",
        "        plt.text(j, i, format(cm[i, j], fmt),\n",
        "                 horizontalalignment=\"center\",\n",
        "                 color=\"white\" if cm[i, j] > thresh else \"black\")\n",
        "\n",
        "    plt.tight_layout()\n",
        "    plt.ylabel('True label')\n",
        "    plt.xlabel('Predicted label')\n",
        "    plt.show()"
      ]
    },
    {
      "cell_type": "code",
      "execution_count": 23,
      "metadata": {},
      "outputs": [
      ],
      "source": [
        "evaluate_model(squeezenet, test_loader)"
      ]
    }
  ],
  "metadata": {
    "accelerator": "GPU",
    "colab": {
      "gpuType": "L4",
      "machine_shape": "hm",
      "provenance": []
    },
    "kernelspec": {
      "display_name": "Python 3",
      "name": "python3"
    },
    "language_info": {
      "codemirror_mode": {
        "name": "ipython",
        "version": 3
      },
      "file_extension": ".py",
      "mimetype": "text/x-python",
      "name": "python",
      "nbconvert_exporter": "python",
      "pygments_lexer": "ipython3",
      "version": "3.9.6"
    }
  },
  "nbformat": 4,
  "nbformat_minor": 0
}
